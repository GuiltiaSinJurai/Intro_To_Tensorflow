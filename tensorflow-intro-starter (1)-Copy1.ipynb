{
 "cells": [
  {
   "cell_type": "markdown",
   "metadata": {
    "collapsed": true
   },
   "source": [
    "Intro to Tensorflow\n",
    "---\n",
    "\n",
    "Import tensorflow and other needed libraries here:"
   ]
  },
  {
   "cell_type": "code",
   "execution_count": 8,
   "metadata": {
    "collapsed": true
   },
   "outputs": [],
   "source": [
    "# TODO: Add imports.\n",
    "import tensorflow as tf\n",
    "import matplotlib.pyplot as plt\n",
    "%matplotlib inline"
   ]
  },
  {
   "cell_type": "markdown",
   "metadata": {},
   "source": [
    "Clear the Graph\n",
    "---\n",
    "Clear the default graph to reset everything back to default"
   ]
  },
  {
   "cell_type": "code",
   "execution_count": 9,
   "metadata": {
    "collapsed": true
   },
   "outputs": [],
   "source": [
    "# TODO: Clear the tensorflow graph\n",
    "tf.reset_default_graph()"
   ]
  },
  {
   "cell_type": "markdown",
   "metadata": {},
   "source": [
    "Set up Placeholders\n",
    "---\n",
    "Placeholders are places you can feed data into your model. They indicate a value that you'll feed in later when the network is run."
   ]
  },
  {
   "cell_type": "code",
   "execution_count": 10,
   "metadata": {
    "collapsed": true
   },
   "outputs": [],
   "source": [
    "# TODO: Create placeholders\n",
    "tf.reset_default_graph()\n",
    "\n",
    "input_x = tf.placeholder(dtype= tf.float32, shape=None)\n",
    "output = tf.placeholder(dtype= tf.float32, shape=None)"
   ]
  },
  {
   "cell_type": "markdown",
   "metadata": {},
   "source": [
    "Variables\n",
    "---\n",
    "Variables keep their value between runs. These are the building blocks of machine learning, and represent the parameters that will be tuned as your model trains"
   ]
  },
  {
   "cell_type": "code",
   "execution_count": 11,
   "metadata": {},
   "outputs": [],
   "source": [
    "# TODO: Create variables\n",
    "variable_m = tf.Variable(0.5, dtype=tf.float32)\n",
    "variable_c = tf.Variable(0.1, dtype=tf.float32)\n",
    "\n",
    "model_operation = variable_m * input_x + variable_c\n",
    "error = model_operation - output\n",
    "loss = tf.reduce_sum(tf.square(error))\n",
    "\n",
    "optimizer = tf.train.GradientDescentOptimizer(learning_rate=0.005)\n",
    "train = optimizer.minimize(loss)"
   ]
  },
  {
   "cell_type": "markdown",
   "metadata": {},
   "source": [
    "Running a Session\n",
    "---\n",
    "Once your graph is built, you can start a session. Putting the session in a `with` statement allows the session to automatically close once the statement finishes:\n",
    "```\n",
    "with tf.Session() as sess:\n",
    "    # Run the session in here\n",
    "    ...\n",
    "# Session closes when you get here\n",
    "```"
   ]
  },
  {
   "cell_type": "code",
   "execution_count": 12,
   "metadata": {},
   "outputs": [
    {
     "name": "stdout",
     "output_type": "stream",
     "text": [
      "[1.04, 0.29499999]\n",
      "[2.0255768, 0.92708564]\n",
      "[2.0056875, 0.98378652]\n",
      "[2.0012648, 0.99639452]\n",
      "[2.0002813, 0.99919826]\n",
      "[2.0000629, 0.99982125]\n",
      "[2.0000141, 0.99995983]\n",
      "[2.0000036, 0.9999907]\n",
      "[2.0000017, 0.99999607]\n",
      "[2.0000017, 0.99999607]\n",
      "[2.0000017, 0.99999607]\n",
      "[2.0000017, 0.99999607]\n",
      "[2.0000017, 0.99999607]\n",
      "[2.0000017, 0.99999607]\n",
      "[2.0000017, 0.99999607]\n",
      "[2.0000017, 0.99999607]\n",
      "[2.0000017, 0.99999607]\n",
      "[2.0000017, 0.99999607]\n",
      "[2.0000017, 0.99999607]\n",
      "[2.0000017, 0.99999607]\n",
      "3.04823e-11\n"
     ]
    },
    {
     "data": {
      "image/png": "[encoded data removed]",
      "text/plain": [
       "<matplotlib.figure.Figure at 0x1b7e0f17f60>"
      ]
     },
     "metadata": {},
     "output_type": "display_data"
    }
   ],
   "source": [
    "# TODO: Run a session\n",
    "init = tf.global_variables_initializer()\n",
    "\n",
    "x_values = [0, 1, 2, 3, 4]\n",
    "y_values = [1, 3, 5, 7, 9]\n",
    "\n",
    "\n",
    "\n",
    "with tf.Session() as sess:\n",
    "    sess.run(init)\n",
    "    for i in range (2000):\n",
    "        sess.run(train, feed_dict={input_x: x_values, output: y_values})\n",
    "        if i % 100 == 0:\n",
    "            print(sess.run([variable_m, variable_c]))\n",
    "            plt.plot(x_values, sess.run(model_operation, feed_dict= {input_x: x_values}))\n",
    "            \n",
    "    print(sess.run(loss, feed_dict={input_x:x_values, output:y_values}))\n",
    "    plt.plot(x_values, y_values, 'ro', 'Training Data')\n",
    "    plt.plot(x_values, sess.run(model_operation, feed_dict= {input_x: x_values}))\n",
    "    plt.show()\n"
   ]
  },
  {
   "cell_type": "markdown",
   "metadata": {},
   "source": [
    "Neurons and Neural Networks\n",
    "---\n",
    "Tensorflow provides functions to easily create layers of neurons for a neural network."
   ]
  }
 ],
 "metadata": {
  "kernelspec": {
   "display_name": "Python 3",
   "language": "python",
   "name": "python3"
  },
  "language_info": {
   "codemirror_mode": {
    "name": "ipython",
    "version": 3
   },
   "file_extension": ".py",
   "mimetype": "text/x-python",
   "name": "python",
   "nbconvert_exporter": "python",
   "pygments_lexer": "ipython3",
   "version": "3.6.3"
  }
 },
 "nbformat": 4,
 "nbformat_minor": 1
}
